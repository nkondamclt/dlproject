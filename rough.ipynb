{
 "cells": [
  {
   "cell_type": "code",
   "outputs": [
    {
     "name": "stdout",
     "output_type": "stream",
     "text": [
      "Right click detected at 2274.5546875, 560.98046875, stopping.\n"
     ]
    }
   ],
   "source": [
    "import pandas as pd\n",
    "from pynput.mouse import Listener, Controller, Button\n",
    "import time\n",
    "import threading\n",
    "\n",
    "player = 'btest'\n",
    "\n",
    "mouse = Controller()\n",
    "data = []  # List to store rows of the DataFrame\n",
    "recording = False  # Flag to start recording after the first click\n",
    "start_time = None  # To record time relative to the first click\n",
    "\n",
    "def on_click(x, y, button, pressed):\n",
    "    global recording, start_time\n",
    "    if pressed:\n",
    "        if button == Button.right:\n",
    "            # Stop recording and exit when right button is clicked\n",
    "            print(f\"Right click detected at {x}, {y}, stopping.\")\n",
    "            return False  # Returning False stops the listener\n",
    "        if button == Button.left:\n",
    "            if not recording:\n",
    "                recording = True\n",
    "                start_time = time.time()\n",
    "            time_elapsed = time.time() - start_time\n",
    "            data.append({'position': (x, y), 'time': time_elapsed, 'click': 1})\n",
    "            # print(f\"Mouse clicked at position: {x}, {y} at {time_elapsed} seconds\")\n",
    "\n",
    "def record_position():\n",
    "    while True:\n",
    "        if recording:\n",
    "            pos = mouse.position\n",
    "            time_elapsed = time.time() - start_time\n",
    "            data.append({'position': pos, 'time': time_elapsed, 'click': 0})\n",
    "            # print(f\"Mouse position at {time_elapsed}: {pos}\")\n",
    "        time.sleep(0.1)\n",
    "\n",
    "if __name__ == \"__main__\":\n",
    "    position_thread = threading.Thread(target=record_position)\n",
    "    position_thread.daemon = True  # Set daemon so it exits on main thread exit\n",
    "    position_thread.start()\n",
    "\n",
    "    # Listener for mouse clicks\n",
    "    with Listener(on_click=on_click) as listener:\n",
    "        listener.join()\n",
    "\n",
    "    # Convert list of data to DataFrame\n",
    "    df = pd.DataFrame(data)\n",
    "    \n",
    "    df = df[df['time']<=60]\n",
    "    \n",
    "    df['x'] = df['position'].apply(lambda x: x[0])\n",
    "    df['y'] = df['position'].apply(lambda x: x[1])\n",
    "    \n",
    "    df = df[['x','y','time','click']]\n",
    "    \n",
    "    from datetime import datetime\n",
    "    current_time = datetime.now().strftime('%Y-%m-%d_%H-%M-%S')\n",
    "\n",
    "    # File name with current timestamp\n",
    "    file_name = f'{player}/data_{current_time}.csv'\n",
    "    \n",
    "    # Save the DataFrame to a CSV file\n",
    "    df.to_csv(file_name, index=False)\n",
    "    \n"
   ],
   "metadata": {
    "collapsed": false,
    "ExecuteTime": {
     "end_time": "2024-04-22T23:43:03.811791Z",
     "start_time": "2024-04-22T23:42:01.816150Z"
    }
   },
   "id": "4da15c542e155e53",
   "execution_count": 1
  },
  {
   "cell_type": "code",
   "outputs": [],
   "source": [
    "#preprocessing\n",
    "moves = []\n",
    "df = df.loc[:df[df['click'] == 1].index[-1],:]\n",
    "inds = df[df['click'] == 1].index\n",
    "for i in range(len(inds)-1):\n",
    "    dft = df.loc[inds[i]:inds[i+1]]\n",
    "    dft = dft - dft.iloc[0,:]\n",
    "    dft.drop('click', axis=1, inplace=True)\n",
    "    moves.append(dft)"
   ],
   "metadata": {
    "collapsed": false,
    "ExecuteTime": {
     "end_time": "2024-04-22T18:04:24.665729Z",
     "start_time": "2024-04-22T18:04:24.597300Z"
    }
   },
   "id": "5c46e6220dd91bb7",
   "execution_count": 2
  },
  {
   "cell_type": "code",
   "outputs": [
    {
     "data": {
      "text/plain": "        x      y      time\n11    0.0    0.0  0.000000\n12    0.0    0.0  0.029192\n13   -1.0   -1.0  0.130832\n14  -14.0   -4.0  0.240394\n15  -66.0   28.0  0.341406\n16 -141.0  116.0  0.446651\n17 -177.0  146.0  0.551740\n18 -224.0  181.0  0.656976\n19 -273.0  215.0  0.760757\n20 -277.0  218.0  0.861117\n21 -303.0  240.0  0.964908\n22 -311.0  247.0  1.070132\n23 -311.0  247.0  1.079937",
      "text/html": "<div>\n<style scoped>\n    .dataframe tbody tr th:only-of-type {\n        vertical-align: middle;\n    }\n\n    .dataframe tbody tr th {\n        vertical-align: top;\n    }\n\n    .dataframe thead th {\n        text-align: right;\n    }\n</style>\n<table border=\"1\" class=\"dataframe\">\n  <thead>\n    <tr style=\"text-align: right;\">\n      <th></th>\n      <th>x</th>\n      <th>y</th>\n      <th>time</th>\n    </tr>\n  </thead>\n  <tbody>\n    <tr>\n      <th>11</th>\n      <td>0.0</td>\n      <td>0.0</td>\n      <td>0.000000</td>\n    </tr>\n    <tr>\n      <th>12</th>\n      <td>0.0</td>\n      <td>0.0</td>\n      <td>0.029192</td>\n    </tr>\n    <tr>\n      <th>13</th>\n      <td>-1.0</td>\n      <td>-1.0</td>\n      <td>0.130832</td>\n    </tr>\n    <tr>\n      <th>14</th>\n      <td>-14.0</td>\n      <td>-4.0</td>\n      <td>0.240394</td>\n    </tr>\n    <tr>\n      <th>15</th>\n      <td>-66.0</td>\n      <td>28.0</td>\n      <td>0.341406</td>\n    </tr>\n    <tr>\n      <th>16</th>\n      <td>-141.0</td>\n      <td>116.0</td>\n      <td>0.446651</td>\n    </tr>\n    <tr>\n      <th>17</th>\n      <td>-177.0</td>\n      <td>146.0</td>\n      <td>0.551740</td>\n    </tr>\n    <tr>\n      <th>18</th>\n      <td>-224.0</td>\n      <td>181.0</td>\n      <td>0.656976</td>\n    </tr>\n    <tr>\n      <th>19</th>\n      <td>-273.0</td>\n      <td>215.0</td>\n      <td>0.760757</td>\n    </tr>\n    <tr>\n      <th>20</th>\n      <td>-277.0</td>\n      <td>218.0</td>\n      <td>0.861117</td>\n    </tr>\n    <tr>\n      <th>21</th>\n      <td>-303.0</td>\n      <td>240.0</td>\n      <td>0.964908</td>\n    </tr>\n    <tr>\n      <th>22</th>\n      <td>-311.0</td>\n      <td>247.0</td>\n      <td>1.070132</td>\n    </tr>\n    <tr>\n      <th>23</th>\n      <td>-311.0</td>\n      <td>247.0</td>\n      <td>1.079937</td>\n    </tr>\n  </tbody>\n</table>\n</div>"
     },
     "execution_count": 3,
     "metadata": {},
     "output_type": "execute_result"
    }
   ],
   "source": [
    "moves[1]"
   ],
   "metadata": {
    "collapsed": false,
    "ExecuteTime": {
     "end_time": "2024-04-22T18:04:27.939522Z",
     "start_time": "2024-04-22T18:04:27.912304Z"
    }
   },
   "id": "7d108b8e81a64138",
   "execution_count": 3
  },
  {
   "cell_type": "code",
   "outputs": [],
   "source": [],
   "metadata": {
    "collapsed": false
   },
   "id": "4b09aaadf7d2c2b7"
  }
 ],
 "metadata": {
  "kernelspec": {
   "display_name": "Python 3",
   "language": "python",
   "name": "python3"
  },
  "language_info": {
   "codemirror_mode": {
    "name": "ipython",
    "version": 2
   },
   "file_extension": ".py",
   "mimetype": "text/x-python",
   "name": "python",
   "nbconvert_exporter": "python",
   "pygments_lexer": "ipython2",
   "version": "2.7.6"
  }
 },
 "nbformat": 4,
 "nbformat_minor": 5
}
